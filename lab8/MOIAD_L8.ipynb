{
  "nbformat": 4,
  "nbformat_minor": 0,
  "metadata": {
    "colab": {
      "provenance": []
    },
    "kernelspec": {
      "name": "python3",
      "display_name": "Python 3"
    },
    "language_info": {
      "name": "python"
    }
  },
  "cells": [
    {
      "cell_type": "code",
      "execution_count": 338,
      "metadata": {
        "id": "tWnnLb97Omrd"
      },
      "outputs": [],
      "source": [
        "#БИБЛИОТЕКИ\n",
        "import numpy as np\n",
        "import pandas as pd\n",
        "from sklearn.preprocessing import StandardScaler\n",
        "from sklearn.compose import ColumnTransformer\n",
        "from sklearn.preprocessing import OneHotEncoder\n",
        "from sklearn.model_selection import train_test_split\n",
        "import tensorflow as tf\n",
        "import matplotlib.pyplot as plt"
      ]
    },
    {
      "cell_type": "code",
      "source": [
        "#ДАННЫЕ\n",
        "df = pd.read_csv(\"garments_worker_productivity.csv\", delimiter = ',')"
      ],
      "metadata": {
        "id": "wr0gr5ZEPpD9"
      },
      "execution_count": 339,
      "outputs": []
    },
    {
      "cell_type": "code",
      "source": [
        "df.head()"
      ],
      "metadata": {
        "colab": {
          "base_uri": "https://localhost:8080/",
          "height": 270
        },
        "id": "Wzw6j0IbPyAO",
        "outputId": "f9cb1167-34aa-42aa-ca4e-58c67246fee6"
      },
      "execution_count": 340,
      "outputs": [
        {
          "output_type": "execute_result",
          "data": {
            "text/plain": [
              "       date   quarter  department       day  team  targeted_productivity  \\\n",
              "0  1/1/2015  Quarter1      sweing  Thursday     8                   0.80   \n",
              "1  1/1/2015  Quarter1  finishing   Thursday     1                   0.75   \n",
              "2  1/1/2015  Quarter1      sweing  Thursday    11                   0.80   \n",
              "3  1/1/2015  Quarter1      sweing  Thursday    12                   0.80   \n",
              "4  1/1/2015  Quarter1      sweing  Thursday     6                   0.80   \n",
              "\n",
              "     smv     wip  over_time  incentive  idle_time  idle_men  \\\n",
              "0  26.16  1108.0       7080         98        0.0         0   \n",
              "1   3.94     NaN        960          0        0.0         0   \n",
              "2  11.41   968.0       3660         50        0.0         0   \n",
              "3  11.41   968.0       3660         50        0.0         0   \n",
              "4  25.90  1170.0       1920         50        0.0         0   \n",
              "\n",
              "   no_of_style_change  no_of_workers  actual_productivity  \n",
              "0                   0           59.0             0.940725  \n",
              "1                   0            8.0             0.886500  \n",
              "2                   0           30.5             0.800570  \n",
              "3                   0           30.5             0.800570  \n",
              "4                   0           56.0             0.800382  "
            ],
            "text/html": [
              "\n",
              "  <div id=\"df-165cb857-9237-4ac7-a94f-467e76e1173f\">\n",
              "    <div class=\"colab-df-container\">\n",
              "      <div>\n",
              "<style scoped>\n",
              "    .dataframe tbody tr th:only-of-type {\n",
              "        vertical-align: middle;\n",
              "    }\n",
              "\n",
              "    .dataframe tbody tr th {\n",
              "        vertical-align: top;\n",
              "    }\n",
              "\n",
              "    .dataframe thead th {\n",
              "        text-align: right;\n",
              "    }\n",
              "</style>\n",
              "<table border=\"1\" class=\"dataframe\">\n",
              "  <thead>\n",
              "    <tr style=\"text-align: right;\">\n",
              "      <th></th>\n",
              "      <th>date</th>\n",
              "      <th>quarter</th>\n",
              "      <th>department</th>\n",
              "      <th>day</th>\n",
              "      <th>team</th>\n",
              "      <th>targeted_productivity</th>\n",
              "      <th>smv</th>\n",
              "      <th>wip</th>\n",
              "      <th>over_time</th>\n",
              "      <th>incentive</th>\n",
              "      <th>idle_time</th>\n",
              "      <th>idle_men</th>\n",
              "      <th>no_of_style_change</th>\n",
              "      <th>no_of_workers</th>\n",
              "      <th>actual_productivity</th>\n",
              "    </tr>\n",
              "  </thead>\n",
              "  <tbody>\n",
              "    <tr>\n",
              "      <th>0</th>\n",
              "      <td>1/1/2015</td>\n",
              "      <td>Quarter1</td>\n",
              "      <td>sweing</td>\n",
              "      <td>Thursday</td>\n",
              "      <td>8</td>\n",
              "      <td>0.80</td>\n",
              "      <td>26.16</td>\n",
              "      <td>1108.0</td>\n",
              "      <td>7080</td>\n",
              "      <td>98</td>\n",
              "      <td>0.0</td>\n",
              "      <td>0</td>\n",
              "      <td>0</td>\n",
              "      <td>59.0</td>\n",
              "      <td>0.940725</td>\n",
              "    </tr>\n",
              "    <tr>\n",
              "      <th>1</th>\n",
              "      <td>1/1/2015</td>\n",
              "      <td>Quarter1</td>\n",
              "      <td>finishing</td>\n",
              "      <td>Thursday</td>\n",
              "      <td>1</td>\n",
              "      <td>0.75</td>\n",
              "      <td>3.94</td>\n",
              "      <td>NaN</td>\n",
              "      <td>960</td>\n",
              "      <td>0</td>\n",
              "      <td>0.0</td>\n",
              "      <td>0</td>\n",
              "      <td>0</td>\n",
              "      <td>8.0</td>\n",
              "      <td>0.886500</td>\n",
              "    </tr>\n",
              "    <tr>\n",
              "      <th>2</th>\n",
              "      <td>1/1/2015</td>\n",
              "      <td>Quarter1</td>\n",
              "      <td>sweing</td>\n",
              "      <td>Thursday</td>\n",
              "      <td>11</td>\n",
              "      <td>0.80</td>\n",
              "      <td>11.41</td>\n",
              "      <td>968.0</td>\n",
              "      <td>3660</td>\n",
              "      <td>50</td>\n",
              "      <td>0.0</td>\n",
              "      <td>0</td>\n",
              "      <td>0</td>\n",
              "      <td>30.5</td>\n",
              "      <td>0.800570</td>\n",
              "    </tr>\n",
              "    <tr>\n",
              "      <th>3</th>\n",
              "      <td>1/1/2015</td>\n",
              "      <td>Quarter1</td>\n",
              "      <td>sweing</td>\n",
              "      <td>Thursday</td>\n",
              "      <td>12</td>\n",
              "      <td>0.80</td>\n",
              "      <td>11.41</td>\n",
              "      <td>968.0</td>\n",
              "      <td>3660</td>\n",
              "      <td>50</td>\n",
              "      <td>0.0</td>\n",
              "      <td>0</td>\n",
              "      <td>0</td>\n",
              "      <td>30.5</td>\n",
              "      <td>0.800570</td>\n",
              "    </tr>\n",
              "    <tr>\n",
              "      <th>4</th>\n",
              "      <td>1/1/2015</td>\n",
              "      <td>Quarter1</td>\n",
              "      <td>sweing</td>\n",
              "      <td>Thursday</td>\n",
              "      <td>6</td>\n",
              "      <td>0.80</td>\n",
              "      <td>25.90</td>\n",
              "      <td>1170.0</td>\n",
              "      <td>1920</td>\n",
              "      <td>50</td>\n",
              "      <td>0.0</td>\n",
              "      <td>0</td>\n",
              "      <td>0</td>\n",
              "      <td>56.0</td>\n",
              "      <td>0.800382</td>\n",
              "    </tr>\n",
              "  </tbody>\n",
              "</table>\n",
              "</div>\n",
              "      <button class=\"colab-df-convert\" onclick=\"convertToInteractive('df-165cb857-9237-4ac7-a94f-467e76e1173f')\"\n",
              "              title=\"Convert this dataframe to an interactive table.\"\n",
              "              style=\"display:none;\">\n",
              "        \n",
              "  <svg xmlns=\"http://www.w3.org/2000/svg\" height=\"24px\"viewBox=\"0 0 24 24\"\n",
              "       width=\"24px\">\n",
              "    <path d=\"M0 0h24v24H0V0z\" fill=\"none\"/>\n",
              "    <path d=\"M18.56 5.44l.94 2.06.94-2.06 2.06-.94-2.06-.94-.94-2.06-.94 2.06-2.06.94zm-11 1L8.5 8.5l.94-2.06 2.06-.94-2.06-.94L8.5 2.5l-.94 2.06-2.06.94zm10 10l.94 2.06.94-2.06 2.06-.94-2.06-.94-.94-2.06-.94 2.06-2.06.94z\"/><path d=\"M17.41 7.96l-1.37-1.37c-.4-.4-.92-.59-1.43-.59-.52 0-1.04.2-1.43.59L10.3 9.45l-7.72 7.72c-.78.78-.78 2.05 0 2.83L4 21.41c.39.39.9.59 1.41.59.51 0 1.02-.2 1.41-.59l7.78-7.78 2.81-2.81c.8-.78.8-2.07 0-2.86zM5.41 20L4 18.59l7.72-7.72 1.47 1.35L5.41 20z\"/>\n",
              "  </svg>\n",
              "      </button>\n",
              "      \n",
              "  <style>\n",
              "    .colab-df-container {\n",
              "      display:flex;\n",
              "      flex-wrap:wrap;\n",
              "      gap: 12px;\n",
              "    }\n",
              "\n",
              "    .colab-df-convert {\n",
              "      background-color: #E8F0FE;\n",
              "      border: none;\n",
              "      border-radius: 50%;\n",
              "      cursor: pointer;\n",
              "      display: none;\n",
              "      fill: #1967D2;\n",
              "      height: 32px;\n",
              "      padding: 0 0 0 0;\n",
              "      width: 32px;\n",
              "    }\n",
              "\n",
              "    .colab-df-convert:hover {\n",
              "      background-color: #E2EBFA;\n",
              "      box-shadow: 0px 1px 2px rgba(60, 64, 67, 0.3), 0px 1px 3px 1px rgba(60, 64, 67, 0.15);\n",
              "      fill: #174EA6;\n",
              "    }\n",
              "\n",
              "    [theme=dark] .colab-df-convert {\n",
              "      background-color: #3B4455;\n",
              "      fill: #D2E3FC;\n",
              "    }\n",
              "\n",
              "    [theme=dark] .colab-df-convert:hover {\n",
              "      background-color: #434B5C;\n",
              "      box-shadow: 0px 1px 3px 1px rgba(0, 0, 0, 0.15);\n",
              "      filter: drop-shadow(0px 1px 2px rgba(0, 0, 0, 0.3));\n",
              "      fill: #FFFFFF;\n",
              "    }\n",
              "  </style>\n",
              "\n",
              "      <script>\n",
              "        const buttonEl =\n",
              "          document.querySelector('#df-165cb857-9237-4ac7-a94f-467e76e1173f button.colab-df-convert');\n",
              "        buttonEl.style.display =\n",
              "          google.colab.kernel.accessAllowed ? 'block' : 'none';\n",
              "\n",
              "        async function convertToInteractive(key) {\n",
              "          const element = document.querySelector('#df-165cb857-9237-4ac7-a94f-467e76e1173f');\n",
              "          const dataTable =\n",
              "            await google.colab.kernel.invokeFunction('convertToInteractive',\n",
              "                                                     [key], {});\n",
              "          if (!dataTable) return;\n",
              "\n",
              "          const docLinkHtml = 'Like what you see? Visit the ' +\n",
              "            '<a target=\"_blank\" href=https://colab.research.google.com/notebooks/data_table.ipynb>data table notebook</a>'\n",
              "            + ' to learn more about interactive tables.';\n",
              "          element.innerHTML = '';\n",
              "          dataTable['output_type'] = 'display_data';\n",
              "          await google.colab.output.renderOutput(dataTable, element);\n",
              "          const docLink = document.createElement('div');\n",
              "          docLink.innerHTML = docLinkHtml;\n",
              "          element.appendChild(docLink);\n",
              "        }\n",
              "      </script>\n",
              "    </div>\n",
              "  </div>\n",
              "  "
            ]
          },
          "metadata": {},
          "execution_count": 340
        }
      ]
    },
    {
      "cell_type": "code",
      "source": [
        "#УДАЛЕНИЕ ТЕКСТОВЫХ ПОЛЕЙ И ПОЛЯ С ДАТОЙ\n",
        "df = df.drop(['date', 'quarter', 'day', 'wip'], axis=1)"
      ],
      "metadata": {
        "id": "wVVY1TE3QC4p"
      },
      "execution_count": 341,
      "outputs": []
    },
    {
      "cell_type": "code",
      "source": [
        "df['department'] = df['department'].apply(lambda x: 1 if x=='sweing' else 0)"
      ],
      "metadata": {
        "id": "-y6b6rV7QEpv"
      },
      "execution_count": 342,
      "outputs": []
    },
    {
      "cell_type": "code",
      "source": [
        "df.head()"
      ],
      "metadata": {
        "colab": {
          "base_uri": "https://localhost:8080/",
          "height": 270
        },
        "id": "O7iQOWb9QU-r",
        "outputId": "6eb477c2-45a6-468a-ec91-d375938f44ba"
      },
      "execution_count": 343,
      "outputs": [
        {
          "output_type": "execute_result",
          "data": {
            "text/plain": [
              "   department  team  targeted_productivity    smv  over_time  incentive  \\\n",
              "0           1     8                   0.80  26.16       7080         98   \n",
              "1           0     1                   0.75   3.94        960          0   \n",
              "2           1    11                   0.80  11.41       3660         50   \n",
              "3           1    12                   0.80  11.41       3660         50   \n",
              "4           1     6                   0.80  25.90       1920         50   \n",
              "\n",
              "   idle_time  idle_men  no_of_style_change  no_of_workers  actual_productivity  \n",
              "0        0.0         0                   0           59.0             0.940725  \n",
              "1        0.0         0                   0            8.0             0.886500  \n",
              "2        0.0         0                   0           30.5             0.800570  \n",
              "3        0.0         0                   0           30.5             0.800570  \n",
              "4        0.0         0                   0           56.0             0.800382  "
            ],
            "text/html": [
              "\n",
              "  <div id=\"df-2f70579d-85fb-4e9f-93d6-8b80b4a96a53\">\n",
              "    <div class=\"colab-df-container\">\n",
              "      <div>\n",
              "<style scoped>\n",
              "    .dataframe tbody tr th:only-of-type {\n",
              "        vertical-align: middle;\n",
              "    }\n",
              "\n",
              "    .dataframe tbody tr th {\n",
              "        vertical-align: top;\n",
              "    }\n",
              "\n",
              "    .dataframe thead th {\n",
              "        text-align: right;\n",
              "    }\n",
              "</style>\n",
              "<table border=\"1\" class=\"dataframe\">\n",
              "  <thead>\n",
              "    <tr style=\"text-align: right;\">\n",
              "      <th></th>\n",
              "      <th>department</th>\n",
              "      <th>team</th>\n",
              "      <th>targeted_productivity</th>\n",
              "      <th>smv</th>\n",
              "      <th>over_time</th>\n",
              "      <th>incentive</th>\n",
              "      <th>idle_time</th>\n",
              "      <th>idle_men</th>\n",
              "      <th>no_of_style_change</th>\n",
              "      <th>no_of_workers</th>\n",
              "      <th>actual_productivity</th>\n",
              "    </tr>\n",
              "  </thead>\n",
              "  <tbody>\n",
              "    <tr>\n",
              "      <th>0</th>\n",
              "      <td>1</td>\n",
              "      <td>8</td>\n",
              "      <td>0.80</td>\n",
              "      <td>26.16</td>\n",
              "      <td>7080</td>\n",
              "      <td>98</td>\n",
              "      <td>0.0</td>\n",
              "      <td>0</td>\n",
              "      <td>0</td>\n",
              "      <td>59.0</td>\n",
              "      <td>0.940725</td>\n",
              "    </tr>\n",
              "    <tr>\n",
              "      <th>1</th>\n",
              "      <td>0</td>\n",
              "      <td>1</td>\n",
              "      <td>0.75</td>\n",
              "      <td>3.94</td>\n",
              "      <td>960</td>\n",
              "      <td>0</td>\n",
              "      <td>0.0</td>\n",
              "      <td>0</td>\n",
              "      <td>0</td>\n",
              "      <td>8.0</td>\n",
              "      <td>0.886500</td>\n",
              "    </tr>\n",
              "    <tr>\n",
              "      <th>2</th>\n",
              "      <td>1</td>\n",
              "      <td>11</td>\n",
              "      <td>0.80</td>\n",
              "      <td>11.41</td>\n",
              "      <td>3660</td>\n",
              "      <td>50</td>\n",
              "      <td>0.0</td>\n",
              "      <td>0</td>\n",
              "      <td>0</td>\n",
              "      <td>30.5</td>\n",
              "      <td>0.800570</td>\n",
              "    </tr>\n",
              "    <tr>\n",
              "      <th>3</th>\n",
              "      <td>1</td>\n",
              "      <td>12</td>\n",
              "      <td>0.80</td>\n",
              "      <td>11.41</td>\n",
              "      <td>3660</td>\n",
              "      <td>50</td>\n",
              "      <td>0.0</td>\n",
              "      <td>0</td>\n",
              "      <td>0</td>\n",
              "      <td>30.5</td>\n",
              "      <td>0.800570</td>\n",
              "    </tr>\n",
              "    <tr>\n",
              "      <th>4</th>\n",
              "      <td>1</td>\n",
              "      <td>6</td>\n",
              "      <td>0.80</td>\n",
              "      <td>25.90</td>\n",
              "      <td>1920</td>\n",
              "      <td>50</td>\n",
              "      <td>0.0</td>\n",
              "      <td>0</td>\n",
              "      <td>0</td>\n",
              "      <td>56.0</td>\n",
              "      <td>0.800382</td>\n",
              "    </tr>\n",
              "  </tbody>\n",
              "</table>\n",
              "</div>\n",
              "      <button class=\"colab-df-convert\" onclick=\"convertToInteractive('df-2f70579d-85fb-4e9f-93d6-8b80b4a96a53')\"\n",
              "              title=\"Convert this dataframe to an interactive table.\"\n",
              "              style=\"display:none;\">\n",
              "        \n",
              "  <svg xmlns=\"http://www.w3.org/2000/svg\" height=\"24px\"viewBox=\"0 0 24 24\"\n",
              "       width=\"24px\">\n",
              "    <path d=\"M0 0h24v24H0V0z\" fill=\"none\"/>\n",
              "    <path d=\"M18.56 5.44l.94 2.06.94-2.06 2.06-.94-2.06-.94-.94-2.06-.94 2.06-2.06.94zm-11 1L8.5 8.5l.94-2.06 2.06-.94-2.06-.94L8.5 2.5l-.94 2.06-2.06.94zm10 10l.94 2.06.94-2.06 2.06-.94-2.06-.94-.94-2.06-.94 2.06-2.06.94z\"/><path d=\"M17.41 7.96l-1.37-1.37c-.4-.4-.92-.59-1.43-.59-.52 0-1.04.2-1.43.59L10.3 9.45l-7.72 7.72c-.78.78-.78 2.05 0 2.83L4 21.41c.39.39.9.59 1.41.59.51 0 1.02-.2 1.41-.59l7.78-7.78 2.81-2.81c.8-.78.8-2.07 0-2.86zM5.41 20L4 18.59l7.72-7.72 1.47 1.35L5.41 20z\"/>\n",
              "  </svg>\n",
              "      </button>\n",
              "      \n",
              "  <style>\n",
              "    .colab-df-container {\n",
              "      display:flex;\n",
              "      flex-wrap:wrap;\n",
              "      gap: 12px;\n",
              "    }\n",
              "\n",
              "    .colab-df-convert {\n",
              "      background-color: #E8F0FE;\n",
              "      border: none;\n",
              "      border-radius: 50%;\n",
              "      cursor: pointer;\n",
              "      display: none;\n",
              "      fill: #1967D2;\n",
              "      height: 32px;\n",
              "      padding: 0 0 0 0;\n",
              "      width: 32px;\n",
              "    }\n",
              "\n",
              "    .colab-df-convert:hover {\n",
              "      background-color: #E2EBFA;\n",
              "      box-shadow: 0px 1px 2px rgba(60, 64, 67, 0.3), 0px 1px 3px 1px rgba(60, 64, 67, 0.15);\n",
              "      fill: #174EA6;\n",
              "    }\n",
              "\n",
              "    [theme=dark] .colab-df-convert {\n",
              "      background-color: #3B4455;\n",
              "      fill: #D2E3FC;\n",
              "    }\n",
              "\n",
              "    [theme=dark] .colab-df-convert:hover {\n",
              "      background-color: #434B5C;\n",
              "      box-shadow: 0px 1px 3px 1px rgba(0, 0, 0, 0.15);\n",
              "      filter: drop-shadow(0px 1px 2px rgba(0, 0, 0, 0.3));\n",
              "      fill: #FFFFFF;\n",
              "    }\n",
              "  </style>\n",
              "\n",
              "      <script>\n",
              "        const buttonEl =\n",
              "          document.querySelector('#df-2f70579d-85fb-4e9f-93d6-8b80b4a96a53 button.colab-df-convert');\n",
              "        buttonEl.style.display =\n",
              "          google.colab.kernel.accessAllowed ? 'block' : 'none';\n",
              "\n",
              "        async function convertToInteractive(key) {\n",
              "          const element = document.querySelector('#df-2f70579d-85fb-4e9f-93d6-8b80b4a96a53');\n",
              "          const dataTable =\n",
              "            await google.colab.kernel.invokeFunction('convertToInteractive',\n",
              "                                                     [key], {});\n",
              "          if (!dataTable) return;\n",
              "\n",
              "          const docLinkHtml = 'Like what you see? Visit the ' +\n",
              "            '<a target=\"_blank\" href=https://colab.research.google.com/notebooks/data_table.ipynb>data table notebook</a>'\n",
              "            + ' to learn more about interactive tables.';\n",
              "          element.innerHTML = '';\n",
              "          dataTable['output_type'] = 'display_data';\n",
              "          await google.colab.output.renderOutput(dataTable, element);\n",
              "          const docLink = document.createElement('div');\n",
              "          docLink.innerHTML = docLinkHtml;\n",
              "          element.appendChild(docLink);\n",
              "        }\n",
              "      </script>\n",
              "    </div>\n",
              "  </div>\n",
              "  "
            ]
          },
          "metadata": {},
          "execution_count": 343
        }
      ]
    },
    {
      "cell_type": "code",
      "source": [
        "#ВЫБОРКИ ДЛЯ МОДЕЛИ\n",
        "X = df.iloc[:, :-1]\n",
        "y = df.iloc[:, -1]"
      ],
      "metadata": {
        "id": "jduoZZieQcDH"
      },
      "execution_count": 345,
      "outputs": []
    },
    {
      "cell_type": "code",
      "source": [
        "#КОДИРОВАНИЕ КАТЕГОРИАЛЬНЫХ ПРИЗНАКОВ\n",
        "ct = ColumnTransformer([('encoder', OneHotEncoder(), [0, 2, 6])], remainder='passthrough')\n",
        "X = ct.fit_transform(X)"
      ],
      "metadata": {
        "id": "BJzmZ27lQp0q"
      },
      "execution_count": 346,
      "outputs": []
    },
    {
      "cell_type": "code",
      "source": [
        "#МАСШТАБИРОВАНИЕ ДАННЫХ\n",
        "scaler = StandardScaler()\n",
        "X = scaler.fit_transform(X)"
      ],
      "metadata": {
        "id": "Uuwjwh0WRafi"
      },
      "execution_count": 347,
      "outputs": []
    },
    {
      "cell_type": "code",
      "source": [
        "#РАЗДЕЛЕНИЕ ДАННЫХ НА ТРЕНИРОВОЧНЫЙ И ТЕСТОВЫЙ НАБОРЫ\n",
        "X_train, X_test, y_train, y_test = train_test_split(X, y, test_size=0.2)"
      ],
      "metadata": {
        "id": "XfgulDBZRfHX"
      },
      "execution_count": 348,
      "outputs": []
    },
    {
      "cell_type": "code",
      "source": [
        "#СОЗДАНИЕ МОДЕЛИ\n",
        "model = tf.keras.models.Sequential([\n",
        "    tf.keras.layers.Dense(units=16, activation='relu', input_shape=[X.shape[1]]),\n",
        "    tf.keras.layers.Dense(units=8, activation='relu'),\n",
        "    tf.keras.layers.Dense(units=1, activation='sigmoid')\n",
        "])"
      ],
      "metadata": {
        "id": "O_0F39MURnQ7"
      },
      "execution_count": 349,
      "outputs": []
    },
    {
      "cell_type": "code",
      "source": [
        "#КОМПИЛЯЦИЯ МОДЕЛИ\n",
        "model.compile(optimizer='adam', loss='binary_crossentropy', metrics=['accuracy'])"
      ],
      "metadata": {
        "id": "lxBlxR4-RsdB"
      },
      "execution_count": 350,
      "outputs": []
    },
    {
      "cell_type": "code",
      "source": [
        "#ОБУЧЕНИЕ МОДЕЛИ\n",
        "model.fit(X_train, y_train, epochs=50, validation_data=(X_test, y_test))"
      ],
      "metadata": {
        "colab": {
          "base_uri": "https://localhost:8080/"
        },
        "id": "5Si3IdW7RxvE",
        "outputId": "083a9d5d-43ff-4e0f-c3c3-b8563b88f013"
      },
      "execution_count": 351,
      "outputs": [
        {
          "output_type": "stream",
          "name": "stdout",
          "text": [
            "Epoch 1/50\n",
            "30/30 [==============================] - 1s 9ms/step - loss: 0.6756 - accuracy: 0.0000e+00 - val_loss: 0.6013 - val_accuracy: 0.0000e+00\n",
            "Epoch 2/50\n",
            "30/30 [==============================] - 0s 4ms/step - loss: 0.6304 - accuracy: 0.0000e+00 - val_loss: 0.5772 - val_accuracy: 0.0000e+00\n",
            "Epoch 3/50\n",
            "30/30 [==============================] - 0s 4ms/step - loss: 0.6045 - accuracy: 0.0000e+00 - val_loss: 0.5631 - val_accuracy: 0.0000e+00\n",
            "Epoch 4/50\n",
            "30/30 [==============================] - 0s 4ms/step - loss: 0.5880 - accuracy: 0.0000e+00 - val_loss: 0.5556 - val_accuracy: 0.0000e+00\n",
            "Epoch 5/50\n",
            "30/30 [==============================] - 0s 3ms/step - loss: 0.5784 - accuracy: 0.0000e+00 - val_loss: 0.5516 - val_accuracy: 0.0000e+00\n",
            "Epoch 6/50\n",
            "30/30 [==============================] - 0s 4ms/step - loss: 0.5704 - accuracy: 0.0000e+00 - val_loss: 0.5490 - val_accuracy: 0.0000e+00\n",
            "Epoch 7/50\n",
            "30/30 [==============================] - 0s 4ms/step - loss: 0.5657 - accuracy: 0.0000e+00 - val_loss: 0.5472 - val_accuracy: 0.0000e+00\n",
            "Epoch 8/50\n",
            "30/30 [==============================] - 0s 4ms/step - loss: 0.5623 - accuracy: 0.0000e+00 - val_loss: 0.5459 - val_accuracy: 0.0000e+00\n",
            "Epoch 9/50\n",
            "30/30 [==============================] - 0s 3ms/step - loss: 0.5598 - accuracy: 0.0000e+00 - val_loss: 0.5448 - val_accuracy: 0.0000e+00\n",
            "Epoch 10/50\n",
            "30/30 [==============================] - 0s 4ms/step - loss: 0.5582 - accuracy: 0.0000e+00 - val_loss: 0.5443 - val_accuracy: 0.0000e+00\n",
            "Epoch 11/50\n",
            "30/30 [==============================] - 0s 4ms/step - loss: 0.5568 - accuracy: 0.0000e+00 - val_loss: 0.5434 - val_accuracy: 0.0000e+00\n",
            "Epoch 12/50\n",
            "30/30 [==============================] - 0s 4ms/step - loss: 0.5557 - accuracy: 0.0000e+00 - val_loss: 0.5429 - val_accuracy: 0.0000e+00\n",
            "Epoch 13/50\n",
            "30/30 [==============================] - 0s 3ms/step - loss: 0.5552 - accuracy: 0.0000e+00 - val_loss: 0.5424 - val_accuracy: 0.0000e+00\n",
            "Epoch 14/50\n",
            "30/30 [==============================] - 0s 4ms/step - loss: 0.5545 - accuracy: 0.0000e+00 - val_loss: 0.5421 - val_accuracy: 0.0000e+00\n",
            "Epoch 15/50\n",
            "30/30 [==============================] - 0s 4ms/step - loss: 0.5539 - accuracy: 0.0000e+00 - val_loss: 0.5417 - val_accuracy: 0.0000e+00\n",
            "Epoch 16/50\n",
            "30/30 [==============================] - 0s 3ms/step - loss: 0.5535 - accuracy: 0.0000e+00 - val_loss: 0.5413 - val_accuracy: 0.0000e+00\n",
            "Epoch 17/50\n",
            "30/30 [==============================] - 0s 4ms/step - loss: 0.5531 - accuracy: 0.0000e+00 - val_loss: 0.5411 - val_accuracy: 0.0000e+00\n",
            "Epoch 18/50\n",
            "30/30 [==============================] - 0s 4ms/step - loss: 0.5528 - accuracy: 0.0000e+00 - val_loss: 0.5408 - val_accuracy: 0.0000e+00\n",
            "Epoch 19/50\n",
            "30/30 [==============================] - 0s 4ms/step - loss: 0.5524 - accuracy: 0.0000e+00 - val_loss: 0.5404 - val_accuracy: 0.0000e+00\n",
            "Epoch 20/50\n",
            "30/30 [==============================] - 0s 3ms/step - loss: 0.5521 - accuracy: 0.0000e+00 - val_loss: 0.5402 - val_accuracy: 0.0000e+00\n",
            "Epoch 21/50\n",
            "30/30 [==============================] - 0s 4ms/step - loss: 0.5518 - accuracy: 0.0000e+00 - val_loss: 0.5399 - val_accuracy: 0.0000e+00\n",
            "Epoch 22/50\n",
            "30/30 [==============================] - 0s 4ms/step - loss: 0.5516 - accuracy: 0.0000e+00 - val_loss: 0.5397 - val_accuracy: 0.0000e+00\n",
            "Epoch 23/50\n",
            "30/30 [==============================] - 0s 5ms/step - loss: 0.5512 - accuracy: 0.0000e+00 - val_loss: 0.5395 - val_accuracy: 0.0000e+00\n",
            "Epoch 24/50\n",
            "30/30 [==============================] - 0s 3ms/step - loss: 0.5511 - accuracy: 0.0000e+00 - val_loss: 0.5394 - val_accuracy: 0.0000e+00\n",
            "Epoch 25/50\n",
            "30/30 [==============================] - 0s 4ms/step - loss: 0.5509 - accuracy: 0.0000e+00 - val_loss: 0.5389 - val_accuracy: 0.0000e+00\n",
            "Epoch 26/50\n",
            "30/30 [==============================] - 0s 4ms/step - loss: 0.5506 - accuracy: 0.0000e+00 - val_loss: 0.5388 - val_accuracy: 0.0000e+00\n",
            "Epoch 27/50\n",
            "30/30 [==============================] - 0s 3ms/step - loss: 0.5505 - accuracy: 0.0000e+00 - val_loss: 0.5387 - val_accuracy: 0.0000e+00\n",
            "Epoch 28/50\n",
            "30/30 [==============================] - 0s 3ms/step - loss: 0.5503 - accuracy: 0.0000e+00 - val_loss: 0.5382 - val_accuracy: 0.0000e+00\n",
            "Epoch 29/50\n",
            "30/30 [==============================] - 0s 3ms/step - loss: 0.5501 - accuracy: 0.0000e+00 - val_loss: 0.5382 - val_accuracy: 0.0000e+00\n",
            "Epoch 30/50\n",
            "30/30 [==============================] - 0s 4ms/step - loss: 0.5500 - accuracy: 0.0000e+00 - val_loss: 0.5381 - val_accuracy: 0.0000e+00\n",
            "Epoch 31/50\n",
            "30/30 [==============================] - 0s 4ms/step - loss: 0.5498 - accuracy: 0.0000e+00 - val_loss: 0.5380 - val_accuracy: 0.0000e+00\n",
            "Epoch 32/50\n",
            "30/30 [==============================] - 0s 3ms/step - loss: 0.5497 - accuracy: 0.0000e+00 - val_loss: 0.5378 - val_accuracy: 0.0000e+00\n",
            "Epoch 33/50\n",
            "30/30 [==============================] - 0s 4ms/step - loss: 0.5495 - accuracy: 0.0000e+00 - val_loss: 0.5377 - val_accuracy: 0.0000e+00\n",
            "Epoch 34/50\n",
            "30/30 [==============================] - 0s 4ms/step - loss: 0.5494 - accuracy: 0.0000e+00 - val_loss: 0.5379 - val_accuracy: 0.0000e+00\n",
            "Epoch 35/50\n",
            "30/30 [==============================] - 0s 4ms/step - loss: 0.5492 - accuracy: 0.0000e+00 - val_loss: 0.5374 - val_accuracy: 0.0000e+00\n",
            "Epoch 36/50\n",
            "30/30 [==============================] - 0s 5ms/step - loss: 0.5492 - accuracy: 0.0000e+00 - val_loss: 0.5374 - val_accuracy: 0.0000e+00\n",
            "Epoch 37/50\n",
            "30/30 [==============================] - 0s 5ms/step - loss: 0.5488 - accuracy: 0.0000e+00 - val_loss: 0.5374 - val_accuracy: 0.0000e+00\n",
            "Epoch 38/50\n",
            "30/30 [==============================] - 0s 5ms/step - loss: 0.5488 - accuracy: 0.0000e+00 - val_loss: 0.5369 - val_accuracy: 0.0000e+00\n",
            "Epoch 39/50\n",
            "30/30 [==============================] - 0s 5ms/step - loss: 0.5485 - accuracy: 0.0000e+00 - val_loss: 0.5371 - val_accuracy: 0.0000e+00\n",
            "Epoch 40/50\n",
            "30/30 [==============================] - 0s 5ms/step - loss: 0.5484 - accuracy: 0.0000e+00 - val_loss: 0.5370 - val_accuracy: 0.0000e+00\n",
            "Epoch 41/50\n",
            "30/30 [==============================] - 0s 5ms/step - loss: 0.5484 - accuracy: 0.0000e+00 - val_loss: 0.5368 - val_accuracy: 0.0000e+00\n",
            "Epoch 42/50\n",
            "30/30 [==============================] - 0s 5ms/step - loss: 0.5481 - accuracy: 0.0000e+00 - val_loss: 0.5367 - val_accuracy: 0.0000e+00\n",
            "Epoch 43/50\n",
            "30/30 [==============================] - 0s 5ms/step - loss: 0.5482 - accuracy: 0.0000e+00 - val_loss: 0.5363 - val_accuracy: 0.0000e+00\n",
            "Epoch 44/50\n",
            "30/30 [==============================] - 0s 5ms/step - loss: 0.5478 - accuracy: 0.0000e+00 - val_loss: 0.5361 - val_accuracy: 0.0000e+00\n",
            "Epoch 45/50\n",
            "30/30 [==============================] - 0s 5ms/step - loss: 0.5477 - accuracy: 0.0000e+00 - val_loss: 0.5361 - val_accuracy: 0.0000e+00\n",
            "Epoch 46/50\n",
            "30/30 [==============================] - 0s 4ms/step - loss: 0.5476 - accuracy: 0.0000e+00 - val_loss: 0.5358 - val_accuracy: 0.0000e+00\n",
            "Epoch 47/50\n",
            "30/30 [==============================] - 0s 5ms/step - loss: 0.5475 - accuracy: 0.0000e+00 - val_loss: 0.5356 - val_accuracy: 0.0000e+00\n",
            "Epoch 48/50\n",
            "30/30 [==============================] - 0s 5ms/step - loss: 0.5475 - accuracy: 0.0000e+00 - val_loss: 0.5357 - val_accuracy: 0.0000e+00\n",
            "Epoch 49/50\n",
            "30/30 [==============================] - 0s 5ms/step - loss: 0.5473 - accuracy: 0.0000e+00 - val_loss: 0.5353 - val_accuracy: 0.0000e+00\n",
            "Epoch 50/50\n",
            "30/30 [==============================] - 0s 5ms/step - loss: 0.5473 - accuracy: 0.0000e+00 - val_loss: 0.5354 - val_accuracy: 0.0000e+00\n"
          ]
        },
        {
          "output_type": "execute_result",
          "data": {
            "text/plain": [
              "<keras.callbacks.History at 0x7f5e9433b220>"
            ]
          },
          "metadata": {},
          "execution_count": 351
        }
      ]
    },
    {
      "cell_type": "code",
      "source": [
        "#ОЦЕНКА МОДЕЛИ НА ТЕСТОВОМ НАБОРЕ ДАННЫХ\n",
        "_, accuracy = model.evaluate(X_test, y_test)\n",
        "print('Качество(точность): %.4f' % (accuracy*100))"
      ],
      "metadata": {
        "colab": {
          "base_uri": "https://localhost:8080/"
        },
        "id": "b2Q6RAICR6AX",
        "outputId": "29290e03-9b72-4040-b1e8-4ee4a4e199b5"
      },
      "execution_count": 352,
      "outputs": [
        {
          "output_type": "stream",
          "name": "stdout",
          "text": [
            "8/8 [==============================] - 0s 2ms/step - loss: 0.5354 - accuracy: 0.0000e+00\n",
            "Качество(точность): 0.0000\n"
          ]
        }
      ]
    },
    {
      "cell_type": "code",
      "source": [
        "#ПРИМЕР ИСПОЛЬЗОВАНИЯ МОДЕЛИ ДЛЯ ПРЕДСКАЗАНИЯ КЛАССА\n",
        "test_sample = np.array([1, 8, 0.8, 2, 2, 4, 0, 0, 1, 2]).reshape(1, -1)\n",
        "test_sample = ct.transform(test_sample) # преобразование категориальных признаков\n",
        "test_sample = scaler.transform(test_sample) # масштабирование"
      ],
      "metadata": {
        "colab": {
          "base_uri": "https://localhost:8080/"
        },
        "id": "6LrsSqfSSpLY",
        "outputId": "bfd4400e-448b-4b1c-ef9a-40cac9259f29"
      },
      "execution_count": 356,
      "outputs": [
        {
          "output_type": "stream",
          "name": "stderr",
          "text": [
            "/usr/local/lib/python3.10/dist-packages/sklearn/base.py:439: UserWarning: X does not have valid feature names, but OneHotEncoder was fitted with feature names\n",
            "  warnings.warn(\n"
          ]
        }
      ]
    },
    {
      "cell_type": "code",
      "source": [
        "predicted_class = model.predict(test_sample)[0][0]"
      ],
      "metadata": {
        "colab": {
          "base_uri": "https://localhost:8080/"
        },
        "id": "EK4tbre0UoTo",
        "outputId": "0882af4e-cc14-49e3-ba74-7631ed98de91"
      },
      "execution_count": 357,
      "outputs": [
        {
          "output_type": "stream",
          "name": "stdout",
          "text": [
            "1/1 [==============================] - 0s 68ms/step\n"
          ]
        }
      ]
    },
    {
      "cell_type": "code",
      "source": [
        "#ВЕРОЯТНОСТЬ ПРИНАДЛЕЖНОСТИ К КЛАССУ 1\n",
        "print('Predicted class probability:', predicted_class)"
      ],
      "metadata": {
        "colab": {
          "base_uri": "https://localhost:8080/"
        },
        "id": "RgcxSPvQUrsa",
        "outputId": "ac0551ce-44ff-496c-8da1-b24cc5d6c308"
      },
      "execution_count": 358,
      "outputs": [
        {
          "output_type": "stream",
          "name": "stdout",
          "text": [
            "Predicted class probability: 0.71883863\n"
          ]
        }
      ]
    },
    {
      "cell_type": "code",
      "source": [
        "#ОКРУГЛЕНИЕ ВЕРОЯТНОСТИ, ПРЕВРАЩЕНИЕ В ЦЕЛОЧИСЛЕННЫЙ КЛАСС\n",
        "predicted_class = int(np.round(predicted_class))\n",
        "print('Predicted class:', predicted_class)"
      ],
      "metadata": {
        "colab": {
          "base_uri": "https://localhost:8080/"
        },
        "id": "PlMQGUawVCok",
        "outputId": "3c2379f9-71a5-4a6d-cf66-7f60a1ac64c8"
      },
      "execution_count": 359,
      "outputs": [
        {
          "output_type": "stream",
          "name": "stdout",
          "text": [
            "Predicted class: 1\n"
          ]
        }
      ]
    },
    {
      "cell_type": "code",
      "source": [
        "# График точности и функции потерь\n",
        "history = model.fit(X_train, y_train, epochs=50, validation_data=(X_test, y_test))\n",
        "training_loss = history.history['loss']\n",
        "test_loss = history.history['val_loss']\n",
        "epoch_count = range(1, len(training_loss) + 1)\n",
        "\n",
        "plt.plot(epoch_count, training_loss, 'r--')\n",
        "plt.plot(epoch_count, test_loss, 'b-')\n",
        "plt.legend(['Training Loss', 'Test Loss'])\n",
        "plt.xlabel('Epoch')\n",
        "plt.ylabel('Loss')\n",
        "plt.show()\n",
        "\n",
        "training_acc = history.history['accuracy']\n",
        "test_acc = history.history['val_accuracy']\n",
        "\n",
        "plt.plot(epoch_count, training_acc, 'r--')\n",
        "plt.plot(epoch_count, test_acc, 'b-', alpha=0.7)\n",
        "plt.legend(['Training Accuracy', 'Test Accuracy'])\n",
        "plt.xlabel('Epoch')\n",
        "plt.ylabel('Accuracy Score')\n",
        "plt.show()"
      ],
      "metadata": {
        "colab": {
          "base_uri": "https://localhost:8080/",
          "height": 1000
        },
        "id": "ee3BzHVEVPqD",
        "outputId": "064d978a-9cf3-4d04-ed3d-a82da5a84ea2"
      },
      "execution_count": 360,
      "outputs": [
        {
          "output_type": "stream",
          "name": "stdout",
          "text": [
            "Epoch 1/50\n",
            "30/30 [==============================] - 0s 5ms/step - loss: 0.5470 - accuracy: 0.0000e+00 - val_loss: 0.5353 - val_accuracy: 0.0000e+00\n",
            "Epoch 2/50\n",
            "30/30 [==============================] - 0s 3ms/step - loss: 0.5469 - accuracy: 0.0000e+00 - val_loss: 0.5350 - val_accuracy: 0.0000e+00\n",
            "Epoch 3/50\n",
            "30/30 [==============================] - 0s 4ms/step - loss: 0.5468 - accuracy: 0.0000e+00 - val_loss: 0.5351 - val_accuracy: 0.0000e+00\n",
            "Epoch 4/50\n",
            "30/30 [==============================] - 0s 3ms/step - loss: 0.5468 - accuracy: 0.0000e+00 - val_loss: 0.5349 - val_accuracy: 0.0000e+00\n",
            "Epoch 5/50\n",
            "30/30 [==============================] - 0s 4ms/step - loss: 0.5465 - accuracy: 0.0000e+00 - val_loss: 0.5348 - val_accuracy: 0.0000e+00\n",
            "Epoch 6/50\n",
            "30/30 [==============================] - 0s 6ms/step - loss: 0.5464 - accuracy: 0.0000e+00 - val_loss: 0.5348 - val_accuracy: 0.0000e+00\n",
            "Epoch 7/50\n",
            "30/30 [==============================] - 0s 8ms/step - loss: 0.5465 - accuracy: 0.0000e+00 - val_loss: 0.5347 - val_accuracy: 0.0000e+00\n",
            "Epoch 8/50\n",
            "30/30 [==============================] - 0s 10ms/step - loss: 0.5461 - accuracy: 0.0000e+00 - val_loss: 0.5345 - val_accuracy: 0.0000e+00\n",
            "Epoch 9/50\n",
            "30/30 [==============================] - 0s 9ms/step - loss: 0.5461 - accuracy: 0.0000e+00 - val_loss: 0.5340 - val_accuracy: 0.0000e+00\n",
            "Epoch 10/50\n",
            "30/30 [==============================] - 0s 8ms/step - loss: 0.5461 - accuracy: 0.0000e+00 - val_loss: 0.5340 - val_accuracy: 0.0000e+00\n",
            "Epoch 11/50\n",
            "30/30 [==============================] - 0s 6ms/step - loss: 0.5458 - accuracy: 0.0000e+00 - val_loss: 0.5338 - val_accuracy: 0.0000e+00\n",
            "Epoch 12/50\n",
            "30/30 [==============================] - 0s 7ms/step - loss: 0.5458 - accuracy: 0.0000e+00 - val_loss: 0.5335 - val_accuracy: 0.0000e+00\n",
            "Epoch 13/50\n",
            "30/30 [==============================] - 0s 10ms/step - loss: 0.5457 - accuracy: 0.0000e+00 - val_loss: 0.5339 - val_accuracy: 0.0000e+00\n",
            "Epoch 14/50\n",
            "30/30 [==============================] - 0s 10ms/step - loss: 0.5456 - accuracy: 0.0000e+00 - val_loss: 0.5336 - val_accuracy: 0.0000e+00\n",
            "Epoch 15/50\n",
            "30/30 [==============================] - 0s 10ms/step - loss: 0.5455 - accuracy: 0.0000e+00 - val_loss: 0.5333 - val_accuracy: 0.0000e+00\n",
            "Epoch 16/50\n",
            "30/30 [==============================] - 0s 12ms/step - loss: 0.5454 - accuracy: 0.0000e+00 - val_loss: 0.5334 - val_accuracy: 0.0000e+00\n",
            "Epoch 17/50\n",
            "30/30 [==============================] - 0s 13ms/step - loss: 0.5451 - accuracy: 0.0000e+00 - val_loss: 0.5334 - val_accuracy: 0.0000e+00\n",
            "Epoch 18/50\n",
            "30/30 [==============================] - 0s 14ms/step - loss: 0.5450 - accuracy: 0.0000e+00 - val_loss: 0.5329 - val_accuracy: 0.0000e+00\n",
            "Epoch 19/50\n",
            "30/30 [==============================] - 1s 22ms/step - loss: 0.5449 - accuracy: 0.0000e+00 - val_loss: 0.5326 - val_accuracy: 0.0000e+00\n",
            "Epoch 20/50\n",
            "30/30 [==============================] - 0s 16ms/step - loss: 0.5451 - accuracy: 0.0000e+00 - val_loss: 0.5328 - val_accuracy: 0.0000e+00\n",
            "Epoch 21/50\n",
            "30/30 [==============================] - 1s 17ms/step - loss: 0.5449 - accuracy: 0.0000e+00 - val_loss: 0.5329 - val_accuracy: 0.0000e+00\n",
            "Epoch 22/50\n",
            "30/30 [==============================] - 0s 13ms/step - loss: 0.5447 - accuracy: 0.0000e+00 - val_loss: 0.5326 - val_accuracy: 0.0000e+00\n",
            "Epoch 23/50\n",
            "30/30 [==============================] - 0s 15ms/step - loss: 0.5446 - accuracy: 0.0000e+00 - val_loss: 0.5326 - val_accuracy: 0.0000e+00\n",
            "Epoch 24/50\n",
            "30/30 [==============================] - 0s 6ms/step - loss: 0.5446 - accuracy: 0.0000e+00 - val_loss: 0.5327 - val_accuracy: 0.0000e+00\n",
            "Epoch 25/50\n",
            "30/30 [==============================] - 0s 7ms/step - loss: 0.5445 - accuracy: 0.0000e+00 - val_loss: 0.5325 - val_accuracy: 0.0000e+00\n",
            "Epoch 26/50\n",
            "30/30 [==============================] - 0s 12ms/step - loss: 0.5443 - accuracy: 0.0000e+00 - val_loss: 0.5323 - val_accuracy: 0.0000e+00\n",
            "Epoch 27/50\n",
            "30/30 [==============================] - 0s 5ms/step - loss: 0.5442 - accuracy: 0.0000e+00 - val_loss: 0.5318 - val_accuracy: 0.0000e+00\n",
            "Epoch 28/50\n",
            "30/30 [==============================] - 0s 7ms/step - loss: 0.5440 - accuracy: 0.0000e+00 - val_loss: 0.5319 - val_accuracy: 0.0000e+00\n",
            "Epoch 29/50\n",
            "30/30 [==============================] - 0s 10ms/step - loss: 0.5438 - accuracy: 0.0000e+00 - val_loss: 0.5323 - val_accuracy: 0.0000e+00\n",
            "Epoch 30/50\n",
            "30/30 [==============================] - 0s 15ms/step - loss: 0.5437 - accuracy: 0.0000e+00 - val_loss: 0.5319 - val_accuracy: 0.0000e+00\n",
            "Epoch 31/50\n",
            "30/30 [==============================] - 0s 4ms/step - loss: 0.5438 - accuracy: 0.0000e+00 - val_loss: 0.5322 - val_accuracy: 0.0000e+00\n",
            "Epoch 32/50\n",
            "30/30 [==============================] - 0s 3ms/step - loss: 0.5437 - accuracy: 0.0000e+00 - val_loss: 0.5327 - val_accuracy: 0.0000e+00\n",
            "Epoch 33/50\n",
            "30/30 [==============================] - 0s 4ms/step - loss: 0.5437 - accuracy: 0.0000e+00 - val_loss: 0.5319 - val_accuracy: 0.0000e+00\n",
            "Epoch 34/50\n",
            "30/30 [==============================] - 0s 4ms/step - loss: 0.5437 - accuracy: 0.0000e+00 - val_loss: 0.5323 - val_accuracy: 0.0000e+00\n",
            "Epoch 35/50\n",
            "30/30 [==============================] - 0s 3ms/step - loss: 0.5433 - accuracy: 0.0000e+00 - val_loss: 0.5317 - val_accuracy: 0.0000e+00\n",
            "Epoch 36/50\n",
            "30/30 [==============================] - 0s 4ms/step - loss: 0.5432 - accuracy: 0.0000e+00 - val_loss: 0.5321 - val_accuracy: 0.0000e+00\n",
            "Epoch 37/50\n",
            "30/30 [==============================] - 0s 3ms/step - loss: 0.5432 - accuracy: 0.0000e+00 - val_loss: 0.5319 - val_accuracy: 0.0000e+00\n",
            "Epoch 38/50\n",
            "30/30 [==============================] - 0s 3ms/step - loss: 0.5431 - accuracy: 0.0000e+00 - val_loss: 0.5320 - val_accuracy: 0.0000e+00\n",
            "Epoch 39/50\n",
            "30/30 [==============================] - 0s 4ms/step - loss: 0.5429 - accuracy: 0.0000e+00 - val_loss: 0.5316 - val_accuracy: 0.0000e+00\n",
            "Epoch 40/50\n",
            "30/30 [==============================] - 0s 3ms/step - loss: 0.5429 - accuracy: 0.0000e+00 - val_loss: 0.5317 - val_accuracy: 0.0000e+00\n",
            "Epoch 41/50\n",
            "30/30 [==============================] - 0s 3ms/step - loss: 0.5430 - accuracy: 0.0000e+00 - val_loss: 0.5321 - val_accuracy: 0.0000e+00\n",
            "Epoch 42/50\n",
            "30/30 [==============================] - 0s 4ms/step - loss: 0.5430 - accuracy: 0.0000e+00 - val_loss: 0.5323 - val_accuracy: 0.0000e+00\n",
            "Epoch 43/50\n",
            "30/30 [==============================] - 0s 3ms/step - loss: 0.5430 - accuracy: 0.0000e+00 - val_loss: 0.5312 - val_accuracy: 0.0000e+00\n",
            "Epoch 44/50\n",
            "30/30 [==============================] - 0s 4ms/step - loss: 0.5425 - accuracy: 0.0000e+00 - val_loss: 0.5319 - val_accuracy: 0.0000e+00\n",
            "Epoch 45/50\n",
            "30/30 [==============================] - 0s 4ms/step - loss: 0.5426 - accuracy: 0.0000e+00 - val_loss: 0.5318 - val_accuracy: 0.0000e+00\n",
            "Epoch 46/50\n",
            "30/30 [==============================] - 0s 4ms/step - loss: 0.5428 - accuracy: 0.0000e+00 - val_loss: 0.5317 - val_accuracy: 0.0000e+00\n",
            "Epoch 47/50\n",
            "30/30 [==============================] - 0s 4ms/step - loss: 0.5426 - accuracy: 0.0000e+00 - val_loss: 0.5317 - val_accuracy: 0.0000e+00\n",
            "Epoch 48/50\n",
            "30/30 [==============================] - 0s 4ms/step - loss: 0.5426 - accuracy: 0.0000e+00 - val_loss: 0.5319 - val_accuracy: 0.0000e+00\n",
            "Epoch 49/50\n",
            "30/30 [==============================] - 0s 4ms/step - loss: 0.5425 - accuracy: 0.0000e+00 - val_loss: 0.5313 - val_accuracy: 0.0000e+00\n",
            "Epoch 50/50\n",
            "30/30 [==============================] - 0s 4ms/step - loss: 0.5423 - accuracy: 0.0000e+00 - val_loss: 0.5316 - val_accuracy: 0.0000e+00\n"
          ]
        },
        {
          "output_type": "display_data",
          "data": {
            "text/plain": [
              "<Figure size 640x480 with 1 Axes>"
            ],
            "image/png": "[encoded data removed]"
          },
          "metadata": {}
        },
        {
          "output_type": "display_data",
          "data": {
            "text/plain": [
              "<Figure size 640x480 with 1 Axes>"
            ],
            "image/png": "[encoded data removed]"
          },
          "metadata": {}
        }
      ]
    }
  ]
}